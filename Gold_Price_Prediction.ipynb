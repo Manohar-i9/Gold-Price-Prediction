{
  "nbformat": 4,
  "nbformat_minor": 0,
  "metadata": {
    "colab": {
      "name": "Gold Price Prediction.ipynb",
      "provenance": [],
      "collapsed_sections": [],
      "toc_visible": true
    },
    "kernelspec": {
      "name": "python3",
      "display_name": "Python 3"
    },
    "language_info": {
      "name": "python"
    }
  },
  "cells": [
    {
      "cell_type": "markdown",
      "source": [
        "***Importing the dependencies***"
      ],
      "metadata": {
        "id": "07Sqdz4odf-y"
      }
    },
    {
      "cell_type": "code",
      "execution_count": 1,
      "metadata": {
        "id": "QZu4SZkxcufO"
      },
      "outputs": [],
      "source": [
        "import numpy as np\n",
        "import pandas as pd\n",
        "import matplotlib.pyplot as plt\n",
        "import seaborn as sns\n",
        "from sklearn.model_selection import train_test_split\n",
        "from sklearn.ensemble import RandomForestRegressor\n",
        "from sklearn import metrics"
      ]
    },
    {
      "cell_type": "markdown",
      "source": [
        "***Data Collection and Processing***"
      ],
      "metadata": {
        "id": "f0Irar5rdmBh"
      }
    },
    {
      "cell_type": "code",
      "source": [
        "# Loading the data in the csv file into a pandas Data Frame.\n",
        "df = pd.read_csv('gld_price_data.csv')"
      ],
      "metadata": {
        "id": "iRM4Q_BJdbae"
      },
      "execution_count": 2,
      "outputs": []
    },
    {
      "cell_type": "code",
      "source": [
        "# Getting the first Five rows in the data frame.\n",
        "df.head()"
      ],
      "metadata": {
        "colab": {
          "base_uri": "https://localhost:8080/",
          "height": 206
        },
        "id": "7MIS_nide0NX",
        "outputId": "23b31269-be71-4bee-e82f-b19f88c7dfa6"
      },
      "execution_count": 10,
      "outputs": [
        {
          "output_type": "execute_result",
          "data": {
            "text/html": [
              "\n",
              "  <div id=\"df-c14769a3-fa3c-46d0-a673-5de3991d950f\">\n",
              "    <div class=\"colab-df-container\">\n",
              "      <div>\n",
              "<style scoped>\n",
              "    .dataframe tbody tr th:only-of-type {\n",
              "        vertical-align: middle;\n",
              "    }\n",
              "\n",
              "    .dataframe tbody tr th {\n",
              "        vertical-align: top;\n",
              "    }\n",
              "\n",
              "    .dataframe thead th {\n",
              "        text-align: right;\n",
              "    }\n",
              "</style>\n",
              "<table border=\"1\" class=\"dataframe\">\n",
              "  <thead>\n",
              "    <tr style=\"text-align: right;\">\n",
              "      <th></th>\n",
              "      <th>Date</th>\n",
              "      <th>SPX</th>\n",
              "      <th>GLD</th>\n",
              "      <th>USO</th>\n",
              "      <th>SLV</th>\n",
              "      <th>EUR/USD</th>\n",
              "    </tr>\n",
              "  </thead>\n",
              "  <tbody>\n",
              "    <tr>\n",
              "      <th>0</th>\n",
              "      <td>1/2/2008</td>\n",
              "      <td>1447.160034</td>\n",
              "      <td>84.860001</td>\n",
              "      <td>78.470001</td>\n",
              "      <td>15.180</td>\n",
              "      <td>1.471692</td>\n",
              "    </tr>\n",
              "    <tr>\n",
              "      <th>1</th>\n",
              "      <td>1/3/2008</td>\n",
              "      <td>1447.160034</td>\n",
              "      <td>85.570000</td>\n",
              "      <td>78.370003</td>\n",
              "      <td>15.285</td>\n",
              "      <td>1.474491</td>\n",
              "    </tr>\n",
              "    <tr>\n",
              "      <th>2</th>\n",
              "      <td>1/4/2008</td>\n",
              "      <td>1411.630005</td>\n",
              "      <td>85.129997</td>\n",
              "      <td>77.309998</td>\n",
              "      <td>15.167</td>\n",
              "      <td>1.475492</td>\n",
              "    </tr>\n",
              "    <tr>\n",
              "      <th>3</th>\n",
              "      <td>1/7/2008</td>\n",
              "      <td>1416.180054</td>\n",
              "      <td>84.769997</td>\n",
              "      <td>75.500000</td>\n",
              "      <td>15.053</td>\n",
              "      <td>1.468299</td>\n",
              "    </tr>\n",
              "    <tr>\n",
              "      <th>4</th>\n",
              "      <td>1/8/2008</td>\n",
              "      <td>1390.189941</td>\n",
              "      <td>86.779999</td>\n",
              "      <td>76.059998</td>\n",
              "      <td>15.590</td>\n",
              "      <td>1.557099</td>\n",
              "    </tr>\n",
              "  </tbody>\n",
              "</table>\n",
              "</div>\n",
              "      <button class=\"colab-df-convert\" onclick=\"convertToInteractive('df-c14769a3-fa3c-46d0-a673-5de3991d950f')\"\n",
              "              title=\"Convert this dataframe to an interactive table.\"\n",
              "              style=\"display:none;\">\n",
              "        \n",
              "  <svg xmlns=\"http://www.w3.org/2000/svg\" height=\"24px\"viewBox=\"0 0 24 24\"\n",
              "       width=\"24px\">\n",
              "    <path d=\"M0 0h24v24H0V0z\" fill=\"none\"/>\n",
              "    <path d=\"M18.56 5.44l.94 2.06.94-2.06 2.06-.94-2.06-.94-.94-2.06-.94 2.06-2.06.94zm-11 1L8.5 8.5l.94-2.06 2.06-.94-2.06-.94L8.5 2.5l-.94 2.06-2.06.94zm10 10l.94 2.06.94-2.06 2.06-.94-2.06-.94-.94-2.06-.94 2.06-2.06.94z\"/><path d=\"M17.41 7.96l-1.37-1.37c-.4-.4-.92-.59-1.43-.59-.52 0-1.04.2-1.43.59L10.3 9.45l-7.72 7.72c-.78.78-.78 2.05 0 2.83L4 21.41c.39.39.9.59 1.41.59.51 0 1.02-.2 1.41-.59l7.78-7.78 2.81-2.81c.8-.78.8-2.07 0-2.86zM5.41 20L4 18.59l7.72-7.72 1.47 1.35L5.41 20z\"/>\n",
              "  </svg>\n",
              "      </button>\n",
              "      \n",
              "  <style>\n",
              "    .colab-df-container {\n",
              "      display:flex;\n",
              "      flex-wrap:wrap;\n",
              "      gap: 12px;\n",
              "    }\n",
              "\n",
              "    .colab-df-convert {\n",
              "      background-color: #E8F0FE;\n",
              "      border: none;\n",
              "      border-radius: 50%;\n",
              "      cursor: pointer;\n",
              "      display: none;\n",
              "      fill: #1967D2;\n",
              "      height: 32px;\n",
              "      padding: 0 0 0 0;\n",
              "      width: 32px;\n",
              "    }\n",
              "\n",
              "    .colab-df-convert:hover {\n",
              "      background-color: #E2EBFA;\n",
              "      box-shadow: 0px 1px 2px rgba(60, 64, 67, 0.3), 0px 1px 3px 1px rgba(60, 64, 67, 0.15);\n",
              "      fill: #174EA6;\n",
              "    }\n",
              "\n",
              "    [theme=dark] .colab-df-convert {\n",
              "      background-color: #3B4455;\n",
              "      fill: #D2E3FC;\n",
              "    }\n",
              "\n",
              "    [theme=dark] .colab-df-convert:hover {\n",
              "      background-color: #434B5C;\n",
              "      box-shadow: 0px 1px 3px 1px rgba(0, 0, 0, 0.15);\n",
              "      filter: drop-shadow(0px 1px 2px rgba(0, 0, 0, 0.3));\n",
              "      fill: #FFFFFF;\n",
              "    }\n",
              "  </style>\n",
              "\n",
              "      <script>\n",
              "        const buttonEl =\n",
              "          document.querySelector('#df-c14769a3-fa3c-46d0-a673-5de3991d950f button.colab-df-convert');\n",
              "        buttonEl.style.display =\n",
              "          google.colab.kernel.accessAllowed ? 'block' : 'none';\n",
              "\n",
              "        async function convertToInteractive(key) {\n",
              "          const element = document.querySelector('#df-c14769a3-fa3c-46d0-a673-5de3991d950f');\n",
              "          const dataTable =\n",
              "            await google.colab.kernel.invokeFunction('convertToInteractive',\n",
              "                                                     [key], {});\n",
              "          if (!dataTable) return;\n",
              "\n",
              "          const docLinkHtml = 'Like what you see? Visit the ' +\n",
              "            '<a target=\"_blank\" href=https://colab.research.google.com/notebooks/data_table.ipynb>data table notebook</a>'\n",
              "            + ' to learn more about interactive tables.';\n",
              "          element.innerHTML = '';\n",
              "          dataTable['output_type'] = 'display_data';\n",
              "          await google.colab.output.renderOutput(dataTable, element);\n",
              "          const docLink = document.createElement('div');\n",
              "          docLink.innerHTML = docLinkHtml;\n",
              "          element.appendChild(docLink);\n",
              "        }\n",
              "      </script>\n",
              "    </div>\n",
              "  </div>\n",
              "  "
            ],
            "text/plain": [
              "       Date          SPX        GLD        USO     SLV   EUR/USD\n",
              "0  1/2/2008  1447.160034  84.860001  78.470001  15.180  1.471692\n",
              "1  1/3/2008  1447.160034  85.570000  78.370003  15.285  1.474491\n",
              "2  1/4/2008  1411.630005  85.129997  77.309998  15.167  1.475492\n",
              "3  1/7/2008  1416.180054  84.769997  75.500000  15.053  1.468299\n",
              "4  1/8/2008  1390.189941  86.779999  76.059998  15.590  1.557099"
            ]
          },
          "metadata": {},
          "execution_count": 10
        }
      ]
    },
    {
      "cell_type": "code",
      "source": [
        "# Getting the last Five rows in the data frame.\n",
        "df.tail()"
      ],
      "metadata": {
        "colab": {
          "base_uri": "https://localhost:8080/",
          "height": 206
        },
        "id": "1lTMV67lgPtI",
        "outputId": "92ee4630-6ed1-42c6-f624-2e5a6d513fd5"
      },
      "execution_count": 11,
      "outputs": [
        {
          "output_type": "execute_result",
          "data": {
            "text/html": [
              "\n",
              "  <div id=\"df-a33c8225-33a2-4e0e-ab23-641b7d2fc5e0\">\n",
              "    <div class=\"colab-df-container\">\n",
              "      <div>\n",
              "<style scoped>\n",
              "    .dataframe tbody tr th:only-of-type {\n",
              "        vertical-align: middle;\n",
              "    }\n",
              "\n",
              "    .dataframe tbody tr th {\n",
              "        vertical-align: top;\n",
              "    }\n",
              "\n",
              "    .dataframe thead th {\n",
              "        text-align: right;\n",
              "    }\n",
              "</style>\n",
              "<table border=\"1\" class=\"dataframe\">\n",
              "  <thead>\n",
              "    <tr style=\"text-align: right;\">\n",
              "      <th></th>\n",
              "      <th>Date</th>\n",
              "      <th>SPX</th>\n",
              "      <th>GLD</th>\n",
              "      <th>USO</th>\n",
              "      <th>SLV</th>\n",
              "      <th>EUR/USD</th>\n",
              "    </tr>\n",
              "  </thead>\n",
              "  <tbody>\n",
              "    <tr>\n",
              "      <th>2285</th>\n",
              "      <td>5/8/2018</td>\n",
              "      <td>2671.919922</td>\n",
              "      <td>124.589996</td>\n",
              "      <td>14.0600</td>\n",
              "      <td>15.5100</td>\n",
              "      <td>1.186789</td>\n",
              "    </tr>\n",
              "    <tr>\n",
              "      <th>2286</th>\n",
              "      <td>5/9/2018</td>\n",
              "      <td>2697.790039</td>\n",
              "      <td>124.330002</td>\n",
              "      <td>14.3700</td>\n",
              "      <td>15.5300</td>\n",
              "      <td>1.184722</td>\n",
              "    </tr>\n",
              "    <tr>\n",
              "      <th>2287</th>\n",
              "      <td>5/10/2018</td>\n",
              "      <td>2723.070068</td>\n",
              "      <td>125.180000</td>\n",
              "      <td>14.4100</td>\n",
              "      <td>15.7400</td>\n",
              "      <td>1.191753</td>\n",
              "    </tr>\n",
              "    <tr>\n",
              "      <th>2288</th>\n",
              "      <td>5/14/2018</td>\n",
              "      <td>2730.129883</td>\n",
              "      <td>124.489998</td>\n",
              "      <td>14.3800</td>\n",
              "      <td>15.5600</td>\n",
              "      <td>1.193118</td>\n",
              "    </tr>\n",
              "    <tr>\n",
              "      <th>2289</th>\n",
              "      <td>5/16/2018</td>\n",
              "      <td>2725.780029</td>\n",
              "      <td>122.543800</td>\n",
              "      <td>14.4058</td>\n",
              "      <td>15.4542</td>\n",
              "      <td>1.182033</td>\n",
              "    </tr>\n",
              "  </tbody>\n",
              "</table>\n",
              "</div>\n",
              "      <button class=\"colab-df-convert\" onclick=\"convertToInteractive('df-a33c8225-33a2-4e0e-ab23-641b7d2fc5e0')\"\n",
              "              title=\"Convert this dataframe to an interactive table.\"\n",
              "              style=\"display:none;\">\n",
              "        \n",
              "  <svg xmlns=\"http://www.w3.org/2000/svg\" height=\"24px\"viewBox=\"0 0 24 24\"\n",
              "       width=\"24px\">\n",
              "    <path d=\"M0 0h24v24H0V0z\" fill=\"none\"/>\n",
              "    <path d=\"M18.56 5.44l.94 2.06.94-2.06 2.06-.94-2.06-.94-.94-2.06-.94 2.06-2.06.94zm-11 1L8.5 8.5l.94-2.06 2.06-.94-2.06-.94L8.5 2.5l-.94 2.06-2.06.94zm10 10l.94 2.06.94-2.06 2.06-.94-2.06-.94-.94-2.06-.94 2.06-2.06.94z\"/><path d=\"M17.41 7.96l-1.37-1.37c-.4-.4-.92-.59-1.43-.59-.52 0-1.04.2-1.43.59L10.3 9.45l-7.72 7.72c-.78.78-.78 2.05 0 2.83L4 21.41c.39.39.9.59 1.41.59.51 0 1.02-.2 1.41-.59l7.78-7.78 2.81-2.81c.8-.78.8-2.07 0-2.86zM5.41 20L4 18.59l7.72-7.72 1.47 1.35L5.41 20z\"/>\n",
              "  </svg>\n",
              "      </button>\n",
              "      \n",
              "  <style>\n",
              "    .colab-df-container {\n",
              "      display:flex;\n",
              "      flex-wrap:wrap;\n",
              "      gap: 12px;\n",
              "    }\n",
              "\n",
              "    .colab-df-convert {\n",
              "      background-color: #E8F0FE;\n",
              "      border: none;\n",
              "      border-radius: 50%;\n",
              "      cursor: pointer;\n",
              "      display: none;\n",
              "      fill: #1967D2;\n",
              "      height: 32px;\n",
              "      padding: 0 0 0 0;\n",
              "      width: 32px;\n",
              "    }\n",
              "\n",
              "    .colab-df-convert:hover {\n",
              "      background-color: #E2EBFA;\n",
              "      box-shadow: 0px 1px 2px rgba(60, 64, 67, 0.3), 0px 1px 3px 1px rgba(60, 64, 67, 0.15);\n",
              "      fill: #174EA6;\n",
              "    }\n",
              "\n",
              "    [theme=dark] .colab-df-convert {\n",
              "      background-color: #3B4455;\n",
              "      fill: #D2E3FC;\n",
              "    }\n",
              "\n",
              "    [theme=dark] .colab-df-convert:hover {\n",
              "      background-color: #434B5C;\n",
              "      box-shadow: 0px 1px 3px 1px rgba(0, 0, 0, 0.15);\n",
              "      filter: drop-shadow(0px 1px 2px rgba(0, 0, 0, 0.3));\n",
              "      fill: #FFFFFF;\n",
              "    }\n",
              "  </style>\n",
              "\n",
              "      <script>\n",
              "        const buttonEl =\n",
              "          document.querySelector('#df-a33c8225-33a2-4e0e-ab23-641b7d2fc5e0 button.colab-df-convert');\n",
              "        buttonEl.style.display =\n",
              "          google.colab.kernel.accessAllowed ? 'block' : 'none';\n",
              "\n",
              "        async function convertToInteractive(key) {\n",
              "          const element = document.querySelector('#df-a33c8225-33a2-4e0e-ab23-641b7d2fc5e0');\n",
              "          const dataTable =\n",
              "            await google.colab.kernel.invokeFunction('convertToInteractive',\n",
              "                                                     [key], {});\n",
              "          if (!dataTable) return;\n",
              "\n",
              "          const docLinkHtml = 'Like what you see? Visit the ' +\n",
              "            '<a target=\"_blank\" href=https://colab.research.google.com/notebooks/data_table.ipynb>data table notebook</a>'\n",
              "            + ' to learn more about interactive tables.';\n",
              "          element.innerHTML = '';\n",
              "          dataTable['output_type'] = 'display_data';\n",
              "          await google.colab.output.renderOutput(dataTable, element);\n",
              "          const docLink = document.createElement('div');\n",
              "          docLink.innerHTML = docLinkHtml;\n",
              "          element.appendChild(docLink);\n",
              "        }\n",
              "      </script>\n",
              "    </div>\n",
              "  </div>\n",
              "  "
            ],
            "text/plain": [
              "           Date          SPX         GLD      USO      SLV   EUR/USD\n",
              "2285   5/8/2018  2671.919922  124.589996  14.0600  15.5100  1.186789\n",
              "2286   5/9/2018  2697.790039  124.330002  14.3700  15.5300  1.184722\n",
              "2287  5/10/2018  2723.070068  125.180000  14.4100  15.7400  1.191753\n",
              "2288  5/14/2018  2730.129883  124.489998  14.3800  15.5600  1.193118\n",
              "2289  5/16/2018  2725.780029  122.543800  14.4058  15.4542  1.182033"
            ]
          },
          "metadata": {},
          "execution_count": 11
        }
      ]
    },
    {
      "cell_type": "code",
      "source": [
        "# Checking the nnumber of rows and columns.\n",
        "df.shape"
      ],
      "metadata": {
        "colab": {
          "base_uri": "https://localhost:8080/"
        },
        "id": "RbQsDaX1e_3T",
        "outputId": "4f284ed3-1821-4cb8-caec-e3e5623b440d"
      },
      "execution_count": 4,
      "outputs": [
        {
          "output_type": "execute_result",
          "data": {
            "text/plain": [
              "(2290, 6)"
            ]
          },
          "metadata": {},
          "execution_count": 4
        }
      ]
    },
    {
      "cell_type": "code",
      "source": [
        "# Getting the data types of the features in the data set.\n",
        "df.dtypes"
      ],
      "metadata": {
        "colab": {
          "base_uri": "https://localhost:8080/"
        },
        "id": "cfhHSNQ1fCNK",
        "outputId": "990c7343-4a28-4429-a9b2-5050472c5ad4"
      },
      "execution_count": 7,
      "outputs": [
        {
          "output_type": "execute_result",
          "data": {
            "text/plain": [
              "Date        object\n",
              "SPX        float64\n",
              "GLD        float64\n",
              "USO        float64\n",
              "SLV        float64\n",
              "EUR/USD    float64\n",
              "dtype: object"
            ]
          },
          "metadata": {},
          "execution_count": 7
        }
      ]
    },
    {
      "cell_type": "code",
      "source": [
        "# Checking for the missing values in the data frame.\n",
        "df.isnull().sum()"
      ],
      "metadata": {
        "colab": {
          "base_uri": "https://localhost:8080/"
        },
        "id": "hY3IQtaRfVzV",
        "outputId": "c0c55098-587f-45b7-8711-fb1c72381a89"
      },
      "execution_count": 8,
      "outputs": [
        {
          "output_type": "execute_result",
          "data": {
            "text/plain": [
              "Date       0\n",
              "SPX        0\n",
              "GLD        0\n",
              "USO        0\n",
              "SLV        0\n",
              "EUR/USD    0\n",
              "dtype: int64"
            ]
          },
          "metadata": {},
          "execution_count": 8
        }
      ]
    },
    {
      "cell_type": "code",
      "source": [
        "# Checking for the duplicates.\n",
        "df.duplicated().sum()"
      ],
      "metadata": {
        "colab": {
          "base_uri": "https://localhost:8080/"
        },
        "id": "9qedSN1Ffw2u",
        "outputId": "dff4d408-2c17-4a7a-ccbf-66c17529a286"
      },
      "execution_count": 9,
      "outputs": [
        {
          "output_type": "execute_result",
          "data": {
            "text/plain": [
              "0"
            ]
          },
          "metadata": {},
          "execution_count": 9
        }
      ]
    },
    {
      "cell_type": "code",
      "source": [
        "# Getting the statistical measures for the data frame.\n",
        "df.describe()"
      ],
      "metadata": {
        "colab": {
          "base_uri": "https://localhost:8080/",
          "height": 300
        },
        "id": "WF0bCDinf5lA",
        "outputId": "14ebfc4a-dc1b-4826-e7e7-6496dd8e4288"
      },
      "execution_count": 14,
      "outputs": [
        {
          "output_type": "execute_result",
          "data": {
            "text/html": [
              "\n",
              "  <div id=\"df-0040e57a-4dad-42de-afc8-3ce673f5678b\">\n",
              "    <div class=\"colab-df-container\">\n",
              "      <div>\n",
              "<style scoped>\n",
              "    .dataframe tbody tr th:only-of-type {\n",
              "        vertical-align: middle;\n",
              "    }\n",
              "\n",
              "    .dataframe tbody tr th {\n",
              "        vertical-align: top;\n",
              "    }\n",
              "\n",
              "    .dataframe thead th {\n",
              "        text-align: right;\n",
              "    }\n",
              "</style>\n",
              "<table border=\"1\" class=\"dataframe\">\n",
              "  <thead>\n",
              "    <tr style=\"text-align: right;\">\n",
              "      <th></th>\n",
              "      <th>SPX</th>\n",
              "      <th>GLD</th>\n",
              "      <th>USO</th>\n",
              "      <th>SLV</th>\n",
              "      <th>EUR/USD</th>\n",
              "    </tr>\n",
              "  </thead>\n",
              "  <tbody>\n",
              "    <tr>\n",
              "      <th>count</th>\n",
              "      <td>2290.000000</td>\n",
              "      <td>2290.000000</td>\n",
              "      <td>2290.000000</td>\n",
              "      <td>2290.000000</td>\n",
              "      <td>2290.000000</td>\n",
              "    </tr>\n",
              "    <tr>\n",
              "      <th>mean</th>\n",
              "      <td>1654.315776</td>\n",
              "      <td>122.732875</td>\n",
              "      <td>31.842221</td>\n",
              "      <td>20.084997</td>\n",
              "      <td>1.283653</td>\n",
              "    </tr>\n",
              "    <tr>\n",
              "      <th>std</th>\n",
              "      <td>519.111540</td>\n",
              "      <td>23.283346</td>\n",
              "      <td>19.523517</td>\n",
              "      <td>7.092566</td>\n",
              "      <td>0.131547</td>\n",
              "    </tr>\n",
              "    <tr>\n",
              "      <th>min</th>\n",
              "      <td>676.530029</td>\n",
              "      <td>70.000000</td>\n",
              "      <td>7.960000</td>\n",
              "      <td>8.850000</td>\n",
              "      <td>1.039047</td>\n",
              "    </tr>\n",
              "    <tr>\n",
              "      <th>25%</th>\n",
              "      <td>1239.874969</td>\n",
              "      <td>109.725000</td>\n",
              "      <td>14.380000</td>\n",
              "      <td>15.570000</td>\n",
              "      <td>1.171313</td>\n",
              "    </tr>\n",
              "    <tr>\n",
              "      <th>50%</th>\n",
              "      <td>1551.434998</td>\n",
              "      <td>120.580002</td>\n",
              "      <td>33.869999</td>\n",
              "      <td>17.268500</td>\n",
              "      <td>1.303296</td>\n",
              "    </tr>\n",
              "    <tr>\n",
              "      <th>75%</th>\n",
              "      <td>2073.010070</td>\n",
              "      <td>132.840004</td>\n",
              "      <td>37.827501</td>\n",
              "      <td>22.882499</td>\n",
              "      <td>1.369971</td>\n",
              "    </tr>\n",
              "    <tr>\n",
              "      <th>max</th>\n",
              "      <td>2872.870117</td>\n",
              "      <td>184.589996</td>\n",
              "      <td>117.480003</td>\n",
              "      <td>47.259998</td>\n",
              "      <td>1.598798</td>\n",
              "    </tr>\n",
              "  </tbody>\n",
              "</table>\n",
              "</div>\n",
              "      <button class=\"colab-df-convert\" onclick=\"convertToInteractive('df-0040e57a-4dad-42de-afc8-3ce673f5678b')\"\n",
              "              title=\"Convert this dataframe to an interactive table.\"\n",
              "              style=\"display:none;\">\n",
              "        \n",
              "  <svg xmlns=\"http://www.w3.org/2000/svg\" height=\"24px\"viewBox=\"0 0 24 24\"\n",
              "       width=\"24px\">\n",
              "    <path d=\"M0 0h24v24H0V0z\" fill=\"none\"/>\n",
              "    <path d=\"M18.56 5.44l.94 2.06.94-2.06 2.06-.94-2.06-.94-.94-2.06-.94 2.06-2.06.94zm-11 1L8.5 8.5l.94-2.06 2.06-.94-2.06-.94L8.5 2.5l-.94 2.06-2.06.94zm10 10l.94 2.06.94-2.06 2.06-.94-2.06-.94-.94-2.06-.94 2.06-2.06.94z\"/><path d=\"M17.41 7.96l-1.37-1.37c-.4-.4-.92-.59-1.43-.59-.52 0-1.04.2-1.43.59L10.3 9.45l-7.72 7.72c-.78.78-.78 2.05 0 2.83L4 21.41c.39.39.9.59 1.41.59.51 0 1.02-.2 1.41-.59l7.78-7.78 2.81-2.81c.8-.78.8-2.07 0-2.86zM5.41 20L4 18.59l7.72-7.72 1.47 1.35L5.41 20z\"/>\n",
              "  </svg>\n",
              "      </button>\n",
              "      \n",
              "  <style>\n",
              "    .colab-df-container {\n",
              "      display:flex;\n",
              "      flex-wrap:wrap;\n",
              "      gap: 12px;\n",
              "    }\n",
              "\n",
              "    .colab-df-convert {\n",
              "      background-color: #E8F0FE;\n",
              "      border: none;\n",
              "      border-radius: 50%;\n",
              "      cursor: pointer;\n",
              "      display: none;\n",
              "      fill: #1967D2;\n",
              "      height: 32px;\n",
              "      padding: 0 0 0 0;\n",
              "      width: 32px;\n",
              "    }\n",
              "\n",
              "    .colab-df-convert:hover {\n",
              "      background-color: #E2EBFA;\n",
              "      box-shadow: 0px 1px 2px rgba(60, 64, 67, 0.3), 0px 1px 3px 1px rgba(60, 64, 67, 0.15);\n",
              "      fill: #174EA6;\n",
              "    }\n",
              "\n",
              "    [theme=dark] .colab-df-convert {\n",
              "      background-color: #3B4455;\n",
              "      fill: #D2E3FC;\n",
              "    }\n",
              "\n",
              "    [theme=dark] .colab-df-convert:hover {\n",
              "      background-color: #434B5C;\n",
              "      box-shadow: 0px 1px 3px 1px rgba(0, 0, 0, 0.15);\n",
              "      filter: drop-shadow(0px 1px 2px rgba(0, 0, 0, 0.3));\n",
              "      fill: #FFFFFF;\n",
              "    }\n",
              "  </style>\n",
              "\n",
              "      <script>\n",
              "        const buttonEl =\n",
              "          document.querySelector('#df-0040e57a-4dad-42de-afc8-3ce673f5678b button.colab-df-convert');\n",
              "        buttonEl.style.display =\n",
              "          google.colab.kernel.accessAllowed ? 'block' : 'none';\n",
              "\n",
              "        async function convertToInteractive(key) {\n",
              "          const element = document.querySelector('#df-0040e57a-4dad-42de-afc8-3ce673f5678b');\n",
              "          const dataTable =\n",
              "            await google.colab.kernel.invokeFunction('convertToInteractive',\n",
              "                                                     [key], {});\n",
              "          if (!dataTable) return;\n",
              "\n",
              "          const docLinkHtml = 'Like what you see? Visit the ' +\n",
              "            '<a target=\"_blank\" href=https://colab.research.google.com/notebooks/data_table.ipynb>data table notebook</a>'\n",
              "            + ' to learn more about interactive tables.';\n",
              "          element.innerHTML = '';\n",
              "          dataTable['output_type'] = 'display_data';\n",
              "          await google.colab.output.renderOutput(dataTable, element);\n",
              "          const docLink = document.createElement('div');\n",
              "          docLink.innerHTML = docLinkHtml;\n",
              "          element.appendChild(docLink);\n",
              "        }\n",
              "      </script>\n",
              "    </div>\n",
              "  </div>\n",
              "  "
            ],
            "text/plain": [
              "               SPX          GLD          USO          SLV      EUR/USD\n",
              "count  2290.000000  2290.000000  2290.000000  2290.000000  2290.000000\n",
              "mean   1654.315776   122.732875    31.842221    20.084997     1.283653\n",
              "std     519.111540    23.283346    19.523517     7.092566     0.131547\n",
              "min     676.530029    70.000000     7.960000     8.850000     1.039047\n",
              "25%    1239.874969   109.725000    14.380000    15.570000     1.171313\n",
              "50%    1551.434998   120.580002    33.869999    17.268500     1.303296\n",
              "75%    2073.010070   132.840004    37.827501    22.882499     1.369971\n",
              "max    2872.870117   184.589996   117.480003    47.259998     1.598798"
            ]
          },
          "metadata": {},
          "execution_count": 14
        }
      ]
    },
    {
      "cell_type": "markdown",
      "source": [
        "***Understading the correlations between the features in the dataset.***"
      ],
      "metadata": {
        "id": "_0zQ-5dniUeb"
      }
    },
    {
      "cell_type": "code",
      "source": [
        "# Getting the correlation matrix\n",
        "cors = df.corr()\n",
        "print(cors.to_string())"
      ],
      "metadata": {
        "colab": {
          "base_uri": "https://localhost:8080/"
        },
        "id": "Z2FY88y3giMN",
        "outputId": "4589abbe-90fd-4c30-e991-cfec8cf57adf"
      },
      "execution_count": 16,
      "outputs": [
        {
          "output_type": "stream",
          "name": "stdout",
          "text": [
            "              SPX       GLD       USO       SLV   EUR/USD\n",
            "SPX      1.000000  0.049345 -0.591573 -0.274055 -0.672017\n",
            "GLD      0.049345  1.000000 -0.186360  0.866632 -0.024375\n",
            "USO     -0.591573 -0.186360  1.000000  0.167547  0.829317\n",
            "SLV     -0.274055  0.866632  0.167547  1.000000  0.321631\n",
            "EUR/USD -0.672017 -0.024375  0.829317  0.321631  1.000000\n"
          ]
        }
      ]
    },
    {
      "cell_type": "code",
      "source": [
        "# Connstructing a heat map to understand the correlation matrix\n",
        "plt.figure(figsize=(8,8))\n",
        "sns.heatmap(cors,cbar=True,square=True,annot=True,annot_kws={'size':15},cmap='Reds')"
      ],
      "metadata": {
        "colab": {
          "base_uri": "https://localhost:8080/",
          "height": 487
        },
        "id": "8CGF3FcEia2B",
        "outputId": "93d6f148-aada-4f47-e2c4-1c56db6d7404"
      },
      "execution_count": 22,
      "outputs": [
        {
          "output_type": "execute_result",
          "data": {
            "text/plain": [
              "<matplotlib.axes._subplots.AxesSubplot at 0x7f990f1de290>"
            ]
          },
          "metadata": {},
          "execution_count": 22
        },
        {
          "output_type": "display_data",
          "data": {
            "image/png": "[encoded data removed]",
            "text/plain": [
              "<Figure size 576x576 with 2 Axes>"
            ]
          },
          "metadata": {
            "needs_background": "light"
          }
        }
      ]
    },
    {
      "cell_type": "code",
      "source": [
        "# Correlation values for GLD.\n",
        "print(cors[\"GLD\"])"
      ],
      "metadata": {
        "colab": {
          "base_uri": "https://localhost:8080/"
        },
        "id": "paIS8P8zjybK",
        "outputId": "fb8cd616-7b74-48e1-8bc2-9144f8928a15"
      },
      "execution_count": 23,
      "outputs": [
        {
          "output_type": "stream",
          "name": "stdout",
          "text": [
            "SPX        0.049345\n",
            "GLD        1.000000\n",
            "USO       -0.186360\n",
            "SLV        0.866632\n",
            "EUR/USD   -0.024375\n",
            "Name: GLD, dtype: float64\n"
          ]
        }
      ]
    },
    {
      "cell_type": "code",
      "source": [
        "# Checking the distribution of the Gold Price.\n",
        "sns.distplot(df[\"GLD\"],color='blue')"
      ],
      "metadata": {
        "colab": {
          "base_uri": "https://localhost:8080/",
          "height": 355
        },
        "id": "DVwf0RijkBve",
        "outputId": "7f942c7f-979d-480c-a739-5579697523db"
      },
      "execution_count": 25,
      "outputs": [
        {
          "output_type": "stream",
          "name": "stderr",
          "text": [
            "/usr/local/lib/python3.7/dist-packages/seaborn/distributions.py:2619: FutureWarning: `distplot` is a deprecated function and will be removed in a future version. Please adapt your code to use either `displot` (a figure-level function with similar flexibility) or `histplot` (an axes-level function for histograms).\n",
            "  warnings.warn(msg, FutureWarning)\n"
          ]
        },
        {
          "output_type": "execute_result",
          "data": {
            "text/plain": [
              "<matplotlib.axes._subplots.AxesSubplot at 0x7f990730f290>"
            ]
          },
          "metadata": {},
          "execution_count": 25
        },
        {
          "output_type": "display_data",
          "data": {
            "image/png": "[encoded data removed]",
            "text/plain": [
              "<Figure size 432x288 with 1 Axes>"
            ]
          },
          "metadata": {
            "needs_background": "light"
          }
        }
      ]
    },
    {
      "cell_type": "markdown",
      "source": [
        "***Splitting the data and the target***"
      ],
      "metadata": {
        "id": "MCDBfzq0jtji"
      }
    },
    {
      "cell_type": "code",
      "source": [
        "# Splitting the date and gold columns from the data set.\n",
        "X = df.drop(['Date','GLD'],axis=1)\n",
        "Y = df['GLD']\n",
        "print(\"DATA VALUES\\n\",X)\n",
        "print(\"\\n\\nTARGETS\\n\",Y)"
      ],
      "metadata": {
        "colab": {
          "base_uri": "https://localhost:8080/"
        },
        "id": "enqspCVAjI5z",
        "outputId": "dff0a90f-ca0b-40eb-bf23-2271a31ae347"
      },
      "execution_count": 27,
      "outputs": [
        {
          "output_type": "stream",
          "name": "stdout",
          "text": [
            "DATA VALUES\n",
            "               SPX        USO      SLV   EUR/USD\n",
            "0     1447.160034  78.470001  15.1800  1.471692\n",
            "1     1447.160034  78.370003  15.2850  1.474491\n",
            "2     1411.630005  77.309998  15.1670  1.475492\n",
            "3     1416.180054  75.500000  15.0530  1.468299\n",
            "4     1390.189941  76.059998  15.5900  1.557099\n",
            "...           ...        ...      ...       ...\n",
            "2285  2671.919922  14.060000  15.5100  1.186789\n",
            "2286  2697.790039  14.370000  15.5300  1.184722\n",
            "2287  2723.070068  14.410000  15.7400  1.191753\n",
            "2288  2730.129883  14.380000  15.5600  1.193118\n",
            "2289  2725.780029  14.405800  15.4542  1.182033\n",
            "\n",
            "[2290 rows x 4 columns]\n",
            "\n",
            "\n",
            "TARGETS\n",
            " 0        84.860001\n",
            "1        85.570000\n",
            "2        85.129997\n",
            "3        84.769997\n",
            "4        86.779999\n",
            "           ...    \n",
            "2285    124.589996\n",
            "2286    124.330002\n",
            "2287    125.180000\n",
            "2288    124.489998\n",
            "2289    122.543800\n",
            "Name: GLD, Length: 2290, dtype: float64\n"
          ]
        }
      ]
    },
    {
      "cell_type": "markdown",
      "source": [
        "***Splitting the data into training data and testing data.***"
      ],
      "metadata": {
        "id": "ZBb8wuMllPqG"
      }
    },
    {
      "cell_type": "code",
      "source": [
        "X_train, X_test, Y_train, Y_test = train_test_split(X, Y, test_size = 0.2, random_state = 2)"
      ],
      "metadata": {
        "id": "ewUjx8ysk7CN"
      },
      "execution_count": 28,
      "outputs": []
    },
    {
      "cell_type": "code",
      "source": [
        "print(X.shape, X_train.shape, X_test.shape)"
      ],
      "metadata": {
        "colab": {
          "base_uri": "https://localhost:8080/"
        },
        "id": "CTB-92l_lZMU",
        "outputId": "8d313657-9457-4a61-c51a-5b9e7a7ce29f"
      },
      "execution_count": 29,
      "outputs": [
        {
          "output_type": "stream",
          "name": "stdout",
          "text": [
            "(2290, 4) (1832, 4) (458, 4)\n"
          ]
        }
      ]
    },
    {
      "cell_type": "markdown",
      "source": [
        "***Model Training***\n",
        "\n",
        "RANDOM FOREST REGRESSOR"
      ],
      "metadata": {
        "id": "HgmFBRrZmHAn"
      }
    },
    {
      "cell_type": "code",
      "source": [
        "# Loading the model.\n",
        "model = RandomForestRegressor(n_estimators=100)"
      ],
      "metadata": {
        "id": "aCfhjAEclbzP"
      },
      "execution_count": 30,
      "outputs": []
    },
    {
      "cell_type": "code",
      "source": [
        "# Training the model.\n",
        "model.fit(X_train,Y_train)"
      ],
      "metadata": {
        "colab": {
          "base_uri": "https://localhost:8080/"
        },
        "id": "a_mEQzeJmeEg",
        "outputId": "4e7429fc-b4bb-46ec-f27b-59543bd69bb2"
      },
      "execution_count": 31,
      "outputs": [
        {
          "output_type": "execute_result",
          "data": {
            "text/plain": [
              "RandomForestRegressor()"
            ]
          },
          "metadata": {},
          "execution_count": 31
        }
      ]
    },
    {
      "cell_type": "markdown",
      "source": [
        "***Model Evaluation***"
      ],
      "metadata": {
        "id": "N_iGbch3m4mM"
      }
    },
    {
      "cell_type": "code",
      "source": [
        "# Accuracy for prediction on training data\n",
        "training_data_prediction = model.predict(X_train) \n",
        "print(training_data_prediction)"
      ],
      "metadata": {
        "colab": {
          "base_uri": "https://localhost:8080/"
        },
        "id": "7aH0gvj0mryv",
        "outputId": "2a563897-98d4-4b1f-a9d4-317525ad22d6"
      },
      "execution_count": 33,
      "outputs": [
        {
          "output_type": "stream",
          "name": "stdout",
          "text": [
            "[110.00899801 114.68520076  90.53609992 ... 130.79089656 159.96099564\n",
            " 114.73889971]\n"
          ]
        }
      ]
    },
    {
      "cell_type": "code",
      "source": [
        "# Error Testing for Training Data \n",
        "\n",
        "#  R Squared Error\n",
        "score_1 = metrics.r2_score(Y_train, training_data_prediction)\n",
        "\n",
        "# Mean Absolute Error\n",
        "score_2 = metrics.mean_absolute_error(Y_train, training_data_prediction)\n",
        "\n",
        "print(\"R Squared Error:   \", score_1)\n",
        "print(\"Mean Absolute Error:   \", score_2)"
      ],
      "metadata": {
        "colab": {
          "base_uri": "https://localhost:8080/"
        },
        "id": "GTPkSuWvnH04",
        "outputId": "3a793e28-9e8b-4781-e045-4ad1fea8d3fb"
      },
      "execution_count": 34,
      "outputs": [
        {
          "output_type": "stream",
          "name": "stdout",
          "text": [
            "R Squared Error:    0.9985113126545451\n",
            "Mean Absolute Error:    0.4849848824454139\n"
          ]
        }
      ]
    },
    {
      "cell_type": "code",
      "source": [
        "plt.scatter(Y_train, training_data_prediction)\n",
        "plt.xlabel(\"Actual Prices\")\n",
        "plt.ylabel(\"Predicted Prices\")\n",
        "plt.title(\"Actual Price vs Predicted Price\",loc = 'left')\n",
        "plt.show()"
      ],
      "metadata": {
        "colab": {
          "base_uri": "https://localhost:8080/",
          "height": 295
        },
        "id": "o0eqppnYnTIR",
        "outputId": "2e2a0a02-d575-40f1-c6d9-0645ad4ebc6a"
      },
      "execution_count": 35,
      "outputs": [
        {
          "output_type": "display_data",
          "data": {
            "image/png": "[encoded data removed]",
            "text/plain": [
              "<Figure size 432x288 with 1 Axes>"
            ]
          },
          "metadata": {
            "needs_background": "light"
          }
        }
      ]
    },
    {
      "cell_type": "code",
      "source": [
        "# Accuracy for prediction o testing data\n",
        "testing_data_prediction = model.predict(X_test) \n",
        "print(testing_data_prediction)"
      ],
      "metadata": {
        "colab": {
          "base_uri": "https://localhost:8080/"
        },
        "id": "4Ogy4iYgnY_O",
        "outputId": "c1884fc3-3ba8-4e2c-a087-3f4996807001"
      },
      "execution_count": 36,
      "outputs": [
        {
          "output_type": "stream",
          "name": "stdout",
          "text": [
            "[168.50429936  81.93319994 115.60550027 127.79790063 120.76540124\n",
            " 154.88629757 150.30319778 126.0755004  117.66679901 125.98740085\n",
            " 116.87640079 171.56500106 141.44139852 168.1018981  115.1264001\n",
            " 117.65220036 139.96940261 169.95460014 159.95480433 158.52469988\n",
            " 155.07459981 125.2251001  175.88860011 156.97350375 125.18490027\n",
            "  93.6597996   76.74090046 121.18449993 119.2617998  167.51490016\n",
            "  88.22090033 125.13819993  91.00520049 117.65290019 121.09929903\n",
            " 136.4816004  115.39280137 115.60950054 147.41659941 107.29620095\n",
            " 104.61650242  87.1749978  126.40390094 117.8117999  154.03679916\n",
            " 119.66180016 108.36219994 107.98509806  93.21230065 127.05599795\n",
            "  75.36780004 113.62369898 121.2550004  111.25129879 118.95939887\n",
            " 120.54669955 158.94549996 166.50000182 146.98559689  85.93299891\n",
            "  94.35820041  86.84069886  90.36210034 118.96750086 126.41810095\n",
            " 127.37850008 167.69249982 122.23929913 117.45449883  98.4684004\n",
            " 167.84060078 142.70599727 132.02410256 121.16720216 120.61999951\n",
            " 119.55690061 114.55900196 118.43610043 107.33150092 127.92810064\n",
            " 113.66449995 106.8404999  116.69600069 119.7243988   89.12380076\n",
            "  88.28369871 146.32490173 126.99649933 113.6343999  110.15909811\n",
            " 108.15169893  77.33339886 170.12010207 113.99089913 121.72679896\n",
            " 128.1309015  154.9934973   91.65059963 135.92640093 158.78140346\n",
            " 125.69740068 125.29860046 130.81210227 114.94800176 119.77559959\n",
            "  92.09310012 110.25319893 165.91349852 157.0534996  114.1350994\n",
            " 106.81990151  79.34429998 113.21380077 125.77270077 107.47709885\n",
            " 119.60560079 155.86130359 159.6301984  120.61579984 134.06000314\n",
            " 101.4605998  117.42739827 119.33540054 112.97140084 102.81779955\n",
            " 160.01179748  99.10790049 149.05029954 125.59930119 169.64299857\n",
            " 125.82129859 127.43529732 127.40650186 113.76529953 112.74600072\n",
            " 123.76769898 102.17799898  88.97430026 124.68329938 102.08929904\n",
            " 106.85709915 113.70550058 117.3347008   98.97689938 121.74300036\n",
            " 163.47989907  87.40789858 106.89279943 117.25810094 127.65510148\n",
            " 123.90710087  80.71209938 120.34260075 158.0122983   87.8016997\n",
            " 110.41359896 118.81959912 172.11559899 103.00599917 105.51620064\n",
            " 122.32330044 157.89309798  87.28689826  92.9033     112.85490048\n",
            " 176.72919989 114.32679998 119.2146006   94.59370088 125.9228002\n",
            " 165.85210169 114.84720133 116.83440125  88.32089885 148.8877011\n",
            " 120.22209945  89.72289989 111.99660022 117.28430022 118.74820142\n",
            "  88.28589941  94.05159958 117.15609969 118.53460157 120.50750034\n",
            " 126.87569802 121.88929946 150.59600036 165.83900054 118.56839947\n",
            " 120.36660145 150.81430058 118.18549942 172.18239918 105.64079956\n",
            " 105.12050078 148.93760131 113.51950083 124.89290112 147.69089923\n",
            " 119.62890105 115.29780038 112.8845002  113.39620217 141.84720208\n",
            " 117.8456979  102.94910054 115.89640146 103.85120178  98.63000041\n",
            " 117.66780045  90.54640038  91.38210059 153.69849993 102.74680008\n",
            " 154.48980099 114.2541018  138.91070083  90.00269804 115.44639914\n",
            " 114.33380015 122.87020043 121.66640015 165.41350228  92.90179945\n",
            " 135.45130112 121.3438994  120.83990066 104.59640021 143.30380272\n",
            " 121.50279901 116.74280055 113.48770128 127.13679776 122.62649943\n",
            " 125.77479938 121.21800029  86.94949856 132.67260051 144.48280196\n",
            "  92.60069979 158.97119885 158.35870352 126.2952984  165.10800001\n",
            " 108.95469963 109.62650088 103.67089858  94.28070068 127.65240271\n",
            " 107.02320091 162.36689906 121.76740039 131.93109956 130.8571024\n",
            " 160.91099938  90.09239853 175.24320273 128.3691001  127.01009819\n",
            "  86.43789924 124.45729928 149.99729712  89.7519001  107.05229951\n",
            " 108.96509991  84.33949895 136.0520994  155.15480271 139.25020389\n",
            "  73.79240034 152.57810073 126.24579912 126.74510039 127.41169932\n",
            " 108.55189928 156.47369926 114.43930146 116.94260155 125.24119943\n",
            " 154.11170163 121.36750014 156.42939826  93.06620072 125.51970136\n",
            " 125.56440007  87.87560045  92.03649913 126.1425996  128.33090377\n",
            " 113.25390017 117.68859753 120.92570045 126.99629847 119.51670085\n",
            " 136.38280089  93.84989916 119.80850023 113.30900085  94.2748997\n",
            " 108.92219986  86.68319917 108.91589965  89.56259975  92.35650014\n",
            " 131.71240343 162.26700083  89.19220001 119.52570096 133.29020146\n",
            " 123.85090019 128.31410178 101.95709859  88.97659869 131.50870073\n",
            " 119.51620044 108.30919981 169.19500156 115.19940054  86.67409874\n",
            " 118.82710065  91.05839954 161.67740011 116.44430029 121.65410009\n",
            " 160.26229804 119.96629952 112.61299901 108.47059871 126.75649982\n",
            "  76.16950028 102.9992998  127.76750237 121.73909912  92.55859978\n",
            " 132.11110148 118.18630132 116.10499955 154.51030312 159.63430132\n",
            " 109.93869953 155.04539803 119.26560068 160.59210068 118.64940044\n",
            " 157.71539938 115.14969893 116.65270041 147.74159819 114.93550078\n",
            " 125.97249885 166.94889937 117.71020002 125.32909957 153.48430364\n",
            " 153.38220273 132.12159939 114.75640029 121.18920215 125.2279005\n",
            "  89.64490032 123.04970013 154.96870163 111.65600021 106.84819938\n",
            " 162.14770117 118.39979942 165.69480022 134.04270114 115.01489925\n",
            " 153.01529886 168.80599962 114.74460012 114.13220122 156.97889943\n",
            "  85.21549918 127.02430104 127.81810072 128.95180041 124.30660094\n",
            " 123.9978008   90.68760096 153.22390058  96.9919998  136.88050037\n",
            "  89.28249954 106.90849999 114.98210042 112.91650111 124.17109932\n",
            "  91.42649865 125.39860116 162.24939923 119.79459914 164.96140191\n",
            " 126.92479788 112.31540017 127.66439925  94.90409958  90.94049978\n",
            " 103.31439908 120.83030031  83.03829969 126.29790029 160.64500512\n",
            " 117.33200074 118.38259965 119.91529965 122.46089932 120.12310104\n",
            " 121.38599969 118.44160042 106.97179998 148.12049979 126.25849816\n",
            " 115.73320059  74.27889999 127.83730071 154.83520085 123.2229004\n",
            " 125.59320072  88.82950017 103.43829837 124.82990058 120.22200036\n",
            "  73.4346008  151.79400026 121.12850062 104.72779986  86.64649778\n",
            " 115.02419922 172.11459822 119.99370024 160.81039723 113.15929937\n",
            " 121.15970016 118.69860127  95.91259996 118.80130015 126.03340044\n",
            " 118.62559946  95.93110105 154.03890189 122.15770034 146.99730069\n",
            " 159.36670231 113.96780031 122.46199957 150.38009848 127.08830033\n",
            " 165.88400047 136.1204004  120.09609954 167.24059825 108.33139969\n",
            " 121.62589892 138.75840134 106.59409899]\n"
          ]
        }
      ]
    },
    {
      "cell_type": "code",
      "source": [
        "# Error Testing for Testing Data \n",
        "\n",
        "#  R Squared Error\n",
        "score_1 = metrics.r2_score(Y_test, testing_data_prediction)\n",
        "\n",
        "# Mean Absolute Error\n",
        "score_2 = metrics.mean_absolute_error(Y_test, testing_data_prediction)\n",
        "\n",
        "print(\"R Squared Error:   \", score_1)\n",
        "print(\"Mean Absolute Error:   \", score_2)"
      ],
      "metadata": {
        "colab": {
          "base_uri": "https://localhost:8080/"
        },
        "id": "hLiIgTaGngZO",
        "outputId": "0b559bc1-dc8f-42aa-82a5-988b629df108"
      },
      "execution_count": 37,
      "outputs": [
        {
          "output_type": "stream",
          "name": "stdout",
          "text": [
            "R Squared Error:    0.9889865675317613\n",
            "Mean Absolute Error:    1.3410535880131003\n"
          ]
        }
      ]
    },
    {
      "cell_type": "markdown",
      "source": [
        "***Comparing the Actual Values and the Predicted Values***"
      ],
      "metadata": {
        "id": "pt5f5ndnoGol"
      }
    },
    {
      "cell_type": "code",
      "source": [
        "Y_test = list(Y_test)"
      ],
      "metadata": {
        "id": "xXCXIyyXn_0O"
      },
      "execution_count": 51,
      "outputs": []
    },
    {
      "cell_type": "code",
      "source": [
        "plt.plot(Y_test, color = 'blue', alpha= 0.8, label = \"Actual Values\")\n",
        "plt.plot(testing_data_prediction, color = 'green', alpha = 0.8, label = \"Predicted Values\")\n",
        "plt.title(\"Actual Price vs Predicted Price\",loc = 'left')\n",
        "plt.xlabel(\"Number of Values\")\n",
        "plt.ylabel(\"Gold Price\")\n",
        "plt.legend(ncol = 2)\n",
        "plt.show()"
      ],
      "metadata": {
        "colab": {
          "base_uri": "https://localhost:8080/",
          "height": 295
        },
        "id": "AjqIwq8poY1r",
        "outputId": "7140a24e-e4b2-4557-ea8a-cd92794a319a"
      },
      "execution_count": 53,
      "outputs": [
        {
          "output_type": "display_data",
          "data": {
            "image/png": "[encoded data removed]",
            "text/plain": [
              "<Figure size 432x288 with 1 Axes>"
            ]
          },
          "metadata": {
            "needs_background": "light"
          }
        }
      ]
    }
  ]
}